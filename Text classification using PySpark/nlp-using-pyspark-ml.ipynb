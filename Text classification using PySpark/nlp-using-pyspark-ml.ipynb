{
 "cells": [
  {
   "cell_type": "markdown",
   "metadata": {},
   "source": [
    "# Data Science for Good - Text classification using PySpark ML\n"
   ]
  },
  {
   "cell_type": "markdown",
   "metadata": {},
   "source": [
    "This Notebook utilizes Machine Learning with <code>PySpark</code> to categorize disaster tweets. This is created for the [Kaggle competition](https://www.kaggle.com/c/nlp-getting-started)."
   ]
  },
  {
   "cell_type": "code",
   "execution_count": 1,
   "metadata": {},
   "outputs": [
    {
     "name": "stdout",
     "output_type": "stream",
     "text": [
      "Collecting pyspark\r\n",
      "\u001b[?25l  Downloading https://files.pythonhosted.org/packages/87/21/f05c186f4ddb01d15d0ddc36ef4b7e3cedbeb6412274a41f26b55a650ee5/pyspark-2.4.4.tar.gz (215.7MB)\r\n",
      "\u001b[K     |████████████████████████████████| 215.7MB 48kB/s \r\n",
      "\u001b[?25hCollecting py4j==0.10.7\r\n",
      "\u001b[?25l  Downloading https://files.pythonhosted.org/packages/e3/53/c737818eb9a7dc32a7cd4f1396e787bd94200c3997c72c1dbe028587bd76/py4j-0.10.7-py2.py3-none-any.whl (197kB)\r\n",
      "\u001b[K     |████████████████████████████████| 204kB 30.3MB/s \r\n",
      "\u001b[?25hBuilding wheels for collected packages: pyspark\r\n",
      "  Building wheel for pyspark (setup.py) ... \u001b[?25l-\b \b\\\b \b|\b \b/\b \b-\b \b\\\b \b|\b \b/\b \b-\b \b\\\b \b|\b \b/\b \b-\b \b\\\b \b|\b \b/\b \b-\b \b\\\b \b|\b \b/\b \b-\b \b\\\b \b|\b \b/\b \b-\b \b\\\b \b|\b \b/\b \b-\b \b\\\b \b|\b \b/\b \b-\b \b\\\b \b|\b \b/\b \b-\b \b\\\b \b|\b \b/\b \b-\b \b\\\b \b|\b \b/\b \b-\b \b\\\b \b|\b \b/\b \b-\b \b\\\b \b|\b \b/\b \b-\b \b\\\b \b|\b \b/\b \b-\b \b\\\b \b|\b \b/\b \bdone\r\n",
      "\u001b[?25h  Created wheel for pyspark: filename=pyspark-2.4.4-py2.py3-none-any.whl size=216131250 sha256=b3e8a5a401a8930bf0120a152c7c4eaa859a597c6182d0dce6e0644535e3922b\r\n",
      "  Stored in directory: /tmp/.cache/pip/wheels/ab/09/4d/0d184230058e654eb1b04467dbc1292f00eaa186544604b471\r\n",
      "Successfully built pyspark\r\n",
      "Installing collected packages: py4j, pyspark\r\n",
      "Successfully installed py4j-0.10.7 pyspark-2.4.4\r\n"
     ]
    }
   ],
   "source": [
    "!pip install pyspark"
   ]
  },
  {
   "cell_type": "code",
   "execution_count": 2,
   "metadata": {
    "_cell_guid": "b1076dfc-b9ad-4769-8c92-a6c4dae69d19",
    "_uuid": "8f2839f25d086af736a60e9eeb907d3b93b6e0e5"
   },
   "outputs": [
    {
     "name": "stdout",
     "output_type": "stream",
     "text": [
      "/kaggle/input/nlp-getting-started/train.csv\n",
      "/kaggle/input/nlp-getting-started/sample_submission.csv\n",
      "/kaggle/input/nlp-getting-started/test.csv\n"
     ]
    }
   ],
   "source": [
    "import numpy as np # linear algebra\n",
    "import pandas as pd # data processing, CSV file I/O (e.g. pd.read_csv)\n",
    "\n",
    "# Input data files are available in the \"../input/\" directory.\n",
    "\n",
    "import os\n",
    "for dirname, _, filenames in os.walk('/kaggle/input'):\n",
    "    for filename in filenames:\n",
    "        print(os.path.join(dirname, filename))\n"
   ]
  },
  {
   "cell_type": "markdown",
   "metadata": {},
   "source": [
    "### Importing necessary libraries"
   ]
  },
  {
   "cell_type": "code",
   "execution_count": 3,
   "metadata": {},
   "outputs": [],
   "source": [
    "from pyspark.sql import SparkSession\n",
    "from pyspark.ml import Pipeline\n",
    "from pyspark.ml.feature import CountVectorizer,StringIndexer, RegexTokenizer,StopWordsRemover\n",
    "from pyspark.sql.functions import col, udf,regexp_replace,isnull\n",
    "from pyspark.sql.types import StringType,IntegerType\n",
    "from pyspark.ml.classification import NaiveBayes, RandomForestClassifier, LogisticRegression, DecisionTreeClassifier, GBTClassifier\n",
    "from pyspark.ml.evaluation import MulticlassClassificationEvaluator, BinaryClassificationEvaluator"
   ]
  },
  {
   "cell_type": "markdown",
   "metadata": {},
   "source": [
    "### Create a Spark session"
   ]
  },
  {
   "cell_type": "code",
   "execution_count": 4,
   "metadata": {},
   "outputs": [],
   "source": [
    "spark = SparkSession.builder.appName('nlp').getOrCreate()"
   ]
  },
  {
   "cell_type": "markdown",
   "metadata": {},
   "source": [
    "## Exploring Data Analysis\n",
    "### Load the data files"
   ]
  },
  {
   "cell_type": "code",
   "execution_count": 5,
   "metadata": {
    "_cell_guid": "79c7e3d0-c299-4dcb-8224-4455121ee9b0",
    "_uuid": "d629ff2d2480ee46fbb7e2d37f6b5fab8052498a"
   },
   "outputs": [
    {
     "name": "stdout",
     "output_type": "stream",
     "text": [
      "root\n",
      " |-- id: string (nullable = true)\n",
      " |-- keyword: string (nullable = true)\n",
      " |-- location: string (nullable = true)\n",
      " |-- text: string (nullable = true)\n",
      " |-- target: integer (nullable = true)\n",
      "\n"
     ]
    }
   ],
   "source": [
    "filepath = '/kaggle/input/nlp-getting-started'\n",
    "sdf_train = spark.read.csv(f'{filepath}/train.csv', header = True, inferSchema = True)\n",
    "sdf_test = spark.read.csv(f'{filepath}/test.csv', inferSchema=True, header=True)\n",
    "\n",
    "sdf_sample_submission = spark.read.csv(f'{filepath}/sample_submission.csv', \n",
    "                                       inferSchema=True, header=True)\n",
    "sdf_train.printSchema()"
   ]
  },
  {
   "cell_type": "markdown",
   "metadata": {},
   "source": [
    "**Predictor variables:** id, keyword, location, text\n",
    "\n",
    "**Outcome variable:** target"
   ]
  },
  {
   "cell_type": "markdown",
   "metadata": {},
   "source": [
    "Let's take a look at how the data looks.  \n",
    "Pandas data frame is better than Spark DataFrame show() function."
   ]
  },
  {
   "cell_type": "code",
   "execution_count": 6,
   "metadata": {},
   "outputs": [
    {
     "data": {
      "text/html": [
       "<div>\n",
       "<style scoped>\n",
       "    .dataframe tbody tr th:only-of-type {\n",
       "        vertical-align: middle;\n",
       "    }\n",
       "\n",
       "    .dataframe tbody tr th {\n",
       "        vertical-align: top;\n",
       "    }\n",
       "\n",
       "    .dataframe thead th {\n",
       "        text-align: right;\n",
       "    }\n",
       "</style>\n",
       "<table border=\"1\" class=\"dataframe\">\n",
       "  <thead>\n",
       "    <tr style=\"text-align: right;\">\n",
       "      <th></th>\n",
       "      <th>id</th>\n",
       "      <th>keyword</th>\n",
       "      <th>location</th>\n",
       "      <th>text</th>\n",
       "      <th>target</th>\n",
       "    </tr>\n",
       "  </thead>\n",
       "  <tbody>\n",
       "    <tr>\n",
       "      <th>0</th>\n",
       "      <td>1</td>\n",
       "      <td>None</td>\n",
       "      <td>None</td>\n",
       "      <td>Our Deeds are the Reason of this #earthquake M...</td>\n",
       "      <td>1</td>\n",
       "    </tr>\n",
       "    <tr>\n",
       "      <th>1</th>\n",
       "      <td>4</td>\n",
       "      <td>None</td>\n",
       "      <td>None</td>\n",
       "      <td>Forest fire near La Ronge Sask. Canada</td>\n",
       "      <td>1</td>\n",
       "    </tr>\n",
       "    <tr>\n",
       "      <th>2</th>\n",
       "      <td>5</td>\n",
       "      <td>None</td>\n",
       "      <td>None</td>\n",
       "      <td>All residents asked to 'shelter in place' are ...</td>\n",
       "      <td>1</td>\n",
       "    </tr>\n",
       "    <tr>\n",
       "      <th>3</th>\n",
       "      <td>6</td>\n",
       "      <td>None</td>\n",
       "      <td>None</td>\n",
       "      <td>13,000 people receive #wildfires evacuation or...</td>\n",
       "      <td>1</td>\n",
       "    </tr>\n",
       "    <tr>\n",
       "      <th>4</th>\n",
       "      <td>7</td>\n",
       "      <td>None</td>\n",
       "      <td>None</td>\n",
       "      <td>Just got sent this photo from Ruby #Alaska as ...</td>\n",
       "      <td>1</td>\n",
       "    </tr>\n",
       "  </tbody>\n",
       "</table>\n",
       "</div>"
      ],
      "text/plain": [
       "  id keyword location                                               text  \\\n",
       "0  1    None     None  Our Deeds are the Reason of this #earthquake M...   \n",
       "1  4    None     None             Forest fire near La Ronge Sask. Canada   \n",
       "2  5    None     None  All residents asked to 'shelter in place' are ...   \n",
       "3  6    None     None  13,000 people receive #wildfires evacuation or...   \n",
       "4  7    None     None  Just got sent this photo from Ruby #Alaska as ...   \n",
       "\n",
       "   target  \n",
       "0       1  \n",
       "1       1  \n",
       "2       1  \n",
       "3       1  \n",
       "4       1  "
      ]
     },
     "execution_count": 6,
     "metadata": {},
     "output_type": "execute_result"
    }
   ],
   "source": [
    "import pandas as pd\n",
    "pd.DataFrame(sdf_train.take(5), columns=sdf_train.columns)"
   ]
  },
  {
   "cell_type": "code",
   "execution_count": 7,
   "metadata": {},
   "outputs": [
    {
     "name": "stdout",
     "output_type": "stream",
     "text": [
      "Training Data Record Count: 8387\n",
      "Test Data Record Count: 3613\n"
     ]
    }
   ],
   "source": [
    "print(\"Training Data Record Count:\",sdf_train.count())\n",
    "print(\"Test Data Record Count:\",sdf_test.count())"
   ]
  },
  {
   "cell_type": "code",
   "execution_count": 8,
   "metadata": {},
   "outputs": [
    {
     "data": {
      "text/plain": [
       "target\n",
       "0.0    4095\n",
       "1.0    3081\n",
       "dtype: int64"
      ]
     },
     "execution_count": 8,
     "metadata": {},
     "output_type": "execute_result"
    }
   ],
   "source": [
    "sdf_train.toPandas().groupby(['target']).size()"
   ]
  },
  {
   "cell_type": "markdown",
   "metadata": {},
   "source": [
    "The data is well balanced."
   ]
  },
  {
   "cell_type": "markdown",
   "metadata": {},
   "source": [
    "## Data Pre-processing\n"
   ]
  },
  {
   "cell_type": "code",
   "execution_count": 9,
   "metadata": {},
   "outputs": [
    {
     "name": "stdout",
     "output_type": "stream",
     "text": [
      "+---+--------------------+------+\n",
      "| id|                text|target|\n",
      "+---+--------------------+------+\n",
      "|  1|Our Deeds are the...|     1|\n",
      "|  4|Forest fire near ...|     1|\n",
      "|  5|All residents ask...|     1|\n",
      "|  6|13,000 people rec...|     1|\n",
      "|  7|Just got sent thi...|     1|\n",
      "+---+--------------------+------+\n",
      "only showing top 5 rows\n",
      "\n"
     ]
    }
   ],
   "source": [
    "ml_df = sdf_train.select(\"id\",\"text\",\"target\")\n",
    "ml_df.show(5)"
   ]
  },
  {
   "cell_type": "markdown",
   "metadata": {},
   "source": [
    "### Cleaning the dataset\n",
    "#### Drop null values"
   ]
  },
  {
   "cell_type": "code",
   "execution_count": 10,
   "metadata": {},
   "outputs": [
    {
     "data": {
      "text/plain": [
       "7176"
      ]
     },
     "execution_count": 10,
     "metadata": {},
     "output_type": "execute_result"
    }
   ],
   "source": [
    "ml_df = ml_df.dropna()\n",
    "ml_df.count()"
   ]
  },
  {
   "cell_type": "markdown",
   "metadata": {},
   "source": [
    "#### Removing numbers from the tweets"
   ]
  },
  {
   "cell_type": "code",
   "execution_count": 11,
   "metadata": {},
   "outputs": [
    {
     "name": "stdout",
     "output_type": "stream",
     "text": [
      "+---+--------------------+------+--------------------+\n",
      "| id|                text|target|            only_str|\n",
      "+---+--------------------+------+--------------------+\n",
      "|  1|Our Deeds are the...|     1|Our Deeds are the...|\n",
      "|  4|Forest fire near ...|     1|Forest fire near ...|\n",
      "|  5|All residents ask...|     1|All residents ask...|\n",
      "|  6|13,000 people rec...|     1|, people receive ...|\n",
      "|  7|Just got sent thi...|     1|Just got sent thi...|\n",
      "+---+--------------------+------+--------------------+\n",
      "only showing top 5 rows\n",
      "\n"
     ]
    }
   ],
   "source": [
    "ml_df = ml_df.withColumn(\"only_str\",regexp_replace(col('text'), '\\d+', ''))\n",
    "ml_df.show(5)"
   ]
  },
  {
   "cell_type": "markdown",
   "metadata": {},
   "source": [
    "#### Segregating the words from the tweet"
   ]
  },
  {
   "cell_type": "code",
   "execution_count": 12,
   "metadata": {},
   "outputs": [
    {
     "name": "stdout",
     "output_type": "stream",
     "text": [
      "+---+--------------------+------+--------------------+--------------------+\n",
      "| id|                text|target|            only_str|               words|\n",
      "+---+--------------------+------+--------------------+--------------------+\n",
      "|  1|Our Deeds are the...|     1|Our Deeds are the...|[our, deeds, are,...|\n",
      "|  4|Forest fire near ...|     1|Forest fire near ...|[forest, fire, ne...|\n",
      "|  5|All residents ask...|     1|All residents ask...|[all, residents, ...|\n",
      "|  6|13,000 people rec...|     1|, people receive ...|[people, receive,...|\n",
      "|  7|Just got sent thi...|     1|Just got sent thi...|[just, got, sent,...|\n",
      "+---+--------------------+------+--------------------+--------------------+\n",
      "only showing top 5 rows\n",
      "\n"
     ]
    }
   ],
   "source": [
    "regex_tokenizer = RegexTokenizer(inputCol=\"only_str\", outputCol=\"words\", pattern=\"\\\\W\")\n",
    "raw_words = regex_tokenizer.transform(ml_df)\n",
    "raw_words.show(5)"
   ]
  },
  {
   "cell_type": "markdown",
   "metadata": {},
   "source": [
    "#### Removing the stop words from raw words"
   ]
  },
  {
   "cell_type": "code",
   "execution_count": 13,
   "metadata": {},
   "outputs": [
    {
     "name": "stdout",
     "output_type": "stream",
     "text": [
      "+---+---------------------------------------------------------------------------------------------------------------------------------------------------------+------+----------------------------------------------------------------------------------------------------+\n",
      "|id |words                                                                                                                                                    |target|filtered                                                                                            |\n",
      "+---+---------------------------------------------------------------------------------------------------------------------------------------------------------+------+----------------------------------------------------------------------------------------------------+\n",
      "|1  |[our, deeds, are, the, reason, of, this, earthquake, may, allah, forgive, us, all]                                                                       |1     |[deeds, reason, earthquake, may, allah, forgive, us]                                                |\n",
      "|4  |[forest, fire, near, la, ronge, sask, canada]                                                                                                            |1     |[forest, fire, near, la, ronge, sask, canada]                                                       |\n",
      "|5  |[all, residents, asked, to, shelter, in, place, are, being, notified, by, officers, no, other, evacuation, or, shelter, in, place, orders, are, expected]|1     |[residents, asked, shelter, place, notified, officers, evacuation, shelter, place, orders, expected]|\n",
      "|6  |[people, receive, wildfires, evacuation, orders, in, california]                                                                                         |1     |[people, receive, wildfires, evacuation, orders, california]                                        |\n",
      "|7  |[just, got, sent, this, photo, from, ruby, alaska, as, smoke, from, wildfires, pours, into, a, school]                                                   |1     |[got, sent, photo, ruby, alaska, smoke, wildfires, pours, school]                                   |\n",
      "+---+---------------------------------------------------------------------------------------------------------------------------------------------------------+------+----------------------------------------------------------------------------------------------------+\n",
      "only showing top 5 rows\n",
      "\n"
     ]
    }
   ],
   "source": [
    "remover = StopWordsRemover(inputCol=\"words\", outputCol=\"filtered\")\n",
    "words_df = remover.transform(raw_words)\n",
    "words_df.select(\"id\",\"words\",\"target\",\"filtered\").show(5, truncate=False)"
   ]
  },
  {
   "cell_type": "markdown",
   "metadata": {},
   "source": [
    "#### Create a features column from the words"
   ]
  },
  {
   "cell_type": "code",
   "execution_count": 14,
   "metadata": {},
   "outputs": [
    {
     "name": "stdout",
     "output_type": "stream",
     "text": [
      "+---+--------------------+------+--------------------+--------------------+--------------------+--------------------+-----+\n",
      "| id|                text|target|            only_str|               words|            filtered|            features|label|\n",
      "+---+--------------------+------+--------------------+--------------------+--------------------+--------------------+-----+\n",
      "|  1|Our Deeds are the...|     1|Our Deeds are the...|[our, deeds, are,...|[deeds, reason, e...|(19663,[24,65,148...|    1|\n",
      "|  4|Forest fire near ...|     1|Forest fire near ...|[forest, fire, ne...|[forest, fire, ne...|(19663,[7,100,140...|    1|\n",
      "|  5|All residents ask...|     1|All residents ask...|[all, residents, ...|[residents, asked...|(19663,[156,578,9...|    1|\n",
      "|  6|13,000 people rec...|     1|, people receive ...|[people, receive,...|[people, receive,...|(19663,[11,23,156...|    1|\n",
      "|  7|Just got sent thi...|     1|Just got sent thi...|[just, got, sent,...|[got, sent, photo...|(19663,[32,102,15...|    1|\n",
      "+---+--------------------+------+--------------------+--------------------+--------------------+--------------------+-----+\n",
      "only showing top 5 rows\n",
      "\n"
     ]
    }
   ],
   "source": [
    "cv = CountVectorizer(inputCol=\"filtered\", outputCol=\"features\")\n",
    "model = cv.fit(words_df)\n",
    "countVectorizer_train = model.transform(words_df)\n",
    "countVectorizer_train = countVectorizer_train.withColumn(\"label\",col('target'))\n",
    "countVectorizer_train.show(5)"
   ]
  },
  {
   "cell_type": "code",
   "execution_count": 15,
   "metadata": {},
   "outputs": [
    {
     "name": "stdout",
     "output_type": "stream",
     "text": [
      "+--------------------+--------------------+--------------------+--------------------+------+\n",
      "|                text|               words|            filtered|            features|target|\n",
      "+--------------------+--------------------+--------------------+--------------------+------+\n",
      "|Our Deeds are the...|[our, deeds, are,...|[deeds, reason, e...|(19663,[24,65,148...|     1|\n",
      "|Forest fire near ...|[forest, fire, ne...|[forest, fire, ne...|(19663,[7,100,140...|     1|\n",
      "|All residents ask...|[all, residents, ...|[residents, asked...|(19663,[156,578,9...|     1|\n",
      "|13,000 people rec...|[people, receive,...|[people, receive,...|(19663,[11,23,156...|     1|\n",
      "|Just got sent thi...|[just, got, sent,...|[got, sent, photo...|(19663,[32,102,15...|     1|\n",
      "|#RockyFire Update...|[rockyfire, updat...|[rockyfire, updat...|(19663,[7,23,284,...|     1|\n",
      "|#flood #disaster ...|[flood, disaster,...|[flood, disaster,...|(19663,[17,121,17...|     1|\n",
      "|I'm on top of the...|[i, m, on, top, o...|[m, top, hill, se...|(19663,[6,7,48,12...|     1|\n",
      "|There's an emerge...|[there, s, an, em...|[emergency, evacu...|(19663,[16,156,48...|     1|\n",
      "|I'm afraid that t...|[i, m, afraid, th...|[m, afraid, torna...|(19663,[6,157,164...|     1|\n",
      "|Three people died...|[three, people, d...|[three, people, d...|(19663,[11,183,35...|     1|\n",
      "|Haha South Tampa ...|[haha, south, tam...|[haha, south, tam...|(19663,[119,122,1...|     1|\n",
      "|#raining #floodin...|[raining, floodin...|[raining, floodin...|(19663,[68,172,43...|     1|\n",
      "|#Flood in Bago My...|[flood, in, bago,...|[flood, bago, mya...|(19663,[121,780,1...|     1|\n",
      "|Damage to school ...|[damage, to, scho...|[damage, school, ...|(19663,[25,51,102...|     1|\n",
      "|      What's up man?|  [what, s, up, man]|               [man]|  (19663,[30],[1.0])|     0|\n",
      "|       I love fruits|   [i, love, fruits]|      [love, fruits]|(19663,[52,17939]...|     0|\n",
      "|    Summer is lovely|[summer, is, lovely]|    [summer, lovely]|(19663,[251,1857]...|     0|\n",
      "|   My car is so fast|[my, car, is, so,...|         [car, fast]|(19663,[51,660],[...|     0|\n",
      "|What a goooooooaa...|[what, a, goooooo...|   [goooooooaaaaaal]|(19663,[7685],[1.0])|     0|\n",
      "+--------------------+--------------------+--------------------+--------------------+------+\n",
      "only showing top 20 rows\n",
      "\n"
     ]
    }
   ],
   "source": [
    "countVectorizer_train.select('text','words','filtered','features','target').show()"
   ]
  },
  {
   "cell_type": "markdown",
   "metadata": {},
   "source": [
    "### Separate the Train and Validation Data"
   ]
  },
  {
   "cell_type": "code",
   "execution_count": 16,
   "metadata": {},
   "outputs": [],
   "source": [
    "(train, validate) = countVectorizer_train.randomSplit([0.8, 0.2],seed = 97435)"
   ]
  },
  {
   "cell_type": "markdown",
   "metadata": {},
   "source": [
    "### Test Data"
   ]
  },
  {
   "cell_type": "code",
   "execution_count": 17,
   "metadata": {},
   "outputs": [
    {
     "name": "stdout",
     "output_type": "stream",
     "text": [
      "+---+--------------------+--------------------+--------------------+--------------------+--------------------+\n",
      "| id|                text|            only_str|               words|            filtered|            features|\n",
      "+---+--------------------+--------------------+--------------------+--------------------+--------------------+\n",
      "|  0|Just happened a t...|Just happened a t...|[just, happened, ...|[happened, terrib...|(11358,[32,55,469...|\n",
      "|  2|Heard about #eart...|Heard about #eart...|[heard, about, ea...|[heard, earthquak...|(11358,[181,196,4...|\n",
      "|  3|there is a forest...|there is a forest...|[there, is, a, fo...|[forest, fire, sp...|(11358,[7,54,338,...|\n",
      "|  9|Apocalypse lighti...|Apocalypse lighti...|[apocalypse, ligh...|[apocalypse, ligh...|(11358,[179,1039,...|\n",
      "| 11|Typhoon Soudelor ...|Typhoon Soudelor ...|[typhoon, soudelo...|[typhoon, soudelo...|(11358,[153,201,2...|\n",
      "+---+--------------------+--------------------+--------------------+--------------------+--------------------+\n",
      "only showing top 5 rows\n",
      "\n"
     ]
    }
   ],
   "source": [
    "trainData = countVectorizer_train\n",
    "\n",
    "#cleaning and preparing the test data\n",
    "testData = sdf_test.select(\"id\",\"text\").dropna()\n",
    "testData = testData.withColumn(\"only_str\",regexp_replace(col('text'), '\\d+', ''))\n",
    "regex_tokenizer = RegexTokenizer(inputCol=\"only_str\", outputCol=\"words\", pattern=\"\\\\W\")  #Extracting raw words\n",
    "testData = regex_tokenizer.transform(testData)\n",
    "remover = StopWordsRemover(inputCol=\"words\", outputCol=\"filtered\") #Removing stop words\n",
    "testData = remover.transform(testData)\n",
    "cv = CountVectorizer(inputCol=\"filtered\", outputCol=\"features\")\n",
    "model = cv.fit(testData)\n",
    "countVectorizer_test = model.transform(testData)\n",
    "testData = countVectorizer_test\n",
    "testData.show(5)"
   ]
  },
  {
   "cell_type": "markdown",
   "metadata": {},
   "source": [
    "# Machine Learning Prediction Models\n",
    "## Naive Bayes Classifier"
   ]
  },
  {
   "cell_type": "code",
   "execution_count": 18,
   "metadata": {},
   "outputs": [],
   "source": [
    "nb = NaiveBayes(modelType=\"multinomial\",labelCol=\"label\", featuresCol=\"features\")\n",
    "nbModel = nb.fit(train)\n",
    "nb_predictions = nbModel.transform(validate)"
   ]
  },
  {
   "cell_type": "code",
   "execution_count": 19,
   "metadata": {},
   "outputs": [
    {
     "name": "stdout",
     "output_type": "stream",
     "text": [
      "Test Area Under ROC 0.43946542240781034\n"
     ]
    }
   ],
   "source": [
    "nbEval = BinaryClassificationEvaluator()\n",
    "print('Test Area Under ROC', nbEval.evaluate(nb_predictions))"
   ]
  },
  {
   "cell_type": "code",
   "execution_count": 20,
   "metadata": {},
   "outputs": [
    {
     "name": "stdout",
     "output_type": "stream",
     "text": [
      "Accuracy of NaiveBayes is = 0.803448\n"
     ]
    }
   ],
   "source": [
    "evaluator = MulticlassClassificationEvaluator(labelCol=\"label\", predictionCol=\"prediction\", metricName=\"accuracy\")\n",
    "nb_accuracy = evaluator.evaluate(nb_predictions)\n",
    "print(\"Accuracy of NaiveBayes is = %g\"% (nb_accuracy))"
   ]
  },
  {
   "cell_type": "markdown",
   "metadata": {},
   "source": [
    "## Logistic Regression Model\n"
   ]
  },
  {
   "cell_type": "code",
   "execution_count": 21,
   "metadata": {},
   "outputs": [],
   "source": [
    "from pyspark.ml.classification import LogisticRegression\n",
    "lr = LogisticRegression(featuresCol = 'features', labelCol = 'target', maxIter=10)\n",
    "lrModel = lr.fit(train)"
   ]
  },
  {
   "cell_type": "markdown",
   "metadata": {},
   "source": [
    "We can obtain the coefficients by using <code>LogisticRegressionModel</code>’s attributes."
   ]
  },
  {
   "cell_type": "code",
   "execution_count": 22,
   "metadata": {},
   "outputs": [
    {
     "data": {
      "image/png": "[encoded data removed]",
      "text/plain": [
       "<Figure size 432x288 with 1 Axes>"
      ]
     },
     "metadata": {
      "needs_background": "light"
     },
     "output_type": "display_data"
    }
   ],
   "source": [
    "import matplotlib.pyplot as plt\n",
    "import numpy as np\n",
    "\n",
    "beta = np.sort(lrModel.coefficients)\n",
    "plt.plot(beta)\n",
    "plt.ylabel('Beta Coefficients')\n",
    "plt.show()"
   ]
  },
  {
   "cell_type": "markdown",
   "metadata": {},
   "source": [
    "Summarize the model"
   ]
  },
  {
   "cell_type": "code",
   "execution_count": 23,
   "metadata": {},
   "outputs": [
    {
     "data": {
      "image/png": "[encoded data removed]",
      "text/plain": [
       "<Figure size 432x288 with 1 Axes>"
      ]
     },
     "metadata": {
      "needs_background": "light"
     },
     "output_type": "display_data"
    },
    {
     "name": "stdout",
     "output_type": "stream",
     "text": [
      "Training set areaUnderROC: 0.9999088557273562\n"
     ]
    }
   ],
   "source": [
    "trainingSummary = lrModel.summary\n",
    "lrROC = trainingSummary.roc.toPandas()\n",
    "\n",
    "plt.plot(lrROC['FPR'],lrROC['TPR'])\n",
    "plt.ylabel('False Positive Rate')\n",
    "plt.xlabel('True Positive Rate')\n",
    "plt.title('ROC Curve')\n",
    "plt.show()\n",
    "\n",
    "print('Training set areaUnderROC: ' + str(trainingSummary.areaUnderROC))"
   ]
  },
  {
   "cell_type": "markdown",
   "metadata": {},
   "source": [
    "### Precision and recall"
   ]
  },
  {
   "cell_type": "code",
   "execution_count": 24,
   "metadata": {},
   "outputs": [
    {
     "data": {
      "image/png": "[encoded data removed]",
      "text/plain": [
       "<Figure size 432x288 with 1 Axes>"
      ]
     },
     "metadata": {
      "needs_background": "light"
     },
     "output_type": "display_data"
    }
   ],
   "source": [
    "pr = trainingSummary.pr.toPandas()\n",
    "plt.plot(pr['recall'],pr['precision'])\n",
    "plt.ylabel('Precision')\n",
    "plt.xlabel('Recall')\n",
    "plt.show()"
   ]
  },
  {
   "cell_type": "markdown",
   "metadata": {},
   "source": [
    "### Validate the model"
   ]
  },
  {
   "cell_type": "code",
   "execution_count": 25,
   "metadata": {},
   "outputs": [
    {
     "name": "stdout",
     "output_type": "stream",
     "text": [
      "+-----+----------+\n",
      "|   id|prediction|\n",
      "+-----+----------+\n",
      "|10003|       0.0|\n",
      "|10013|       0.0|\n",
      "|10016|       0.0|\n",
      "|10018|       0.0|\n",
      "|10036|       0.0|\n",
      "+-----+----------+\n",
      "only showing top 5 rows\n",
      "\n"
     ]
    }
   ],
   "source": [
    "lrPreds = lrModel.transform(validate)\n",
    "lrPreds.select('id','prediction').show(5)"
   ]
  },
  {
   "cell_type": "markdown",
   "metadata": {},
   "source": [
    "### Evaluate the Logistic Regression model"
   ]
  },
  {
   "cell_type": "code",
   "execution_count": 26,
   "metadata": {},
   "outputs": [
    {
     "name": "stdout",
     "output_type": "stream",
     "text": [
      "Test Area Under ROC 0.8043579820397603\n"
     ]
    }
   ],
   "source": [
    "lrEval = BinaryClassificationEvaluator()\n",
    "print('Test Area Under ROC', lrEval.evaluate(lrPreds))"
   ]
  },
  {
   "cell_type": "code",
   "execution_count": 27,
   "metadata": {},
   "outputs": [
    {
     "name": "stdout",
     "output_type": "stream",
     "text": [
      "Accuracy of Logistic Regression is = 0.768276\n"
     ]
    }
   ],
   "source": [
    "evaluator = MulticlassClassificationEvaluator(labelCol=\"label\", predictionCol=\"prediction\", metricName=\"accuracy\")\n",
    "lr_accuracy = evaluator.evaluate(lrPreds)\n",
    "print(\"Accuracy of Logistic Regression is = %g\"% (lr_accuracy))"
   ]
  },
  {
   "cell_type": "markdown",
   "metadata": {},
   "source": [
    "## Decision Tree Classifier\n"
   ]
  },
  {
   "cell_type": "code",
   "execution_count": 28,
   "metadata": {},
   "outputs": [
    {
     "name": "stdout",
     "output_type": "stream",
     "text": [
      "+-----+--------------------+------+--------------------+--------------------+--------------------+--------------------+-----+---------------+--------------------+----------+\n",
      "|   id|                text|target|            only_str|               words|            filtered|            features|label|  rawPrediction|         probability|prediction|\n",
      "+-----+--------------------+------+--------------------+--------------------+--------------------+--------------------+-----+---------------+--------------------+----------+\n",
      "|10003|I want some tsuna...|     0|I want some tsuna...|[i, want, some, t...|[want, tsunami, t...|(19663,[80,91,468...|    0| [2085.0,819.0]|[0.71797520661157...|       0.0|\n",
      "|10013|love 106.1 The Tw...|     0|love . The Twiste...|[love, the, twist...|[love, twister, t...|(19663,[52,296,54...|    0| [2085.0,819.0]|[0.71797520661157...|       0.0|\n",
      "|10016|Crazy Mom Threw T...|     0|Crazy Mom Threw T...|[crazy, mom, thre...|[crazy, mom, thre...|(19663,[0,1,296,6...|    0|[1115.0,1524.0]|[0.42250852595680...|       1.0|\n",
      "|10018|Twister was fun h...|     0|Twister was fun h...|[twister, was, fu...|[twister, fun, ht...|(19663,[0,2,296,5...|    0| [2085.0,819.0]|[0.71797520661157...|       0.0|\n",
      "|10036|@carolinagutierr ...|     0|@carolinagutierr ...|[carolinagutierr,...|[carolinagutierr,...|(19663,[296,4153,...|    0| [2085.0,819.0]|[0.71797520661157...|       0.0|\n",
      "+-----+--------------------+------+--------------------+--------------------+--------------------+--------------------+-----+---------------+--------------------+----------+\n",
      "only showing top 5 rows\n",
      "\n"
     ]
    }
   ],
   "source": [
    "from pyspark.ml.classification import DecisionTreeClassifier\n",
    "\n",
    "dt = DecisionTreeClassifier(featuresCol = 'features', labelCol = 'target', maxDepth = 3)\n",
    "dtModel = dt.fit(train)\n",
    "dtPreds = dtModel.transform(validate)\n",
    "dtPreds.show(5)\n",
    "#dtPreds.select('age', 'job', 'label', 'rawPrediction', 'prediction', 'probability').show(10)"
   ]
  },
  {
   "cell_type": "markdown",
   "metadata": {},
   "source": [
    "### Evaluate the Decision Tree model\n",
    "\n",
    "One simple decision tree performed poorly because it is too weak given the range of different features. The prediction accuracy of decision trees can be improved by Ensemble methods, such as Random Forest and Gradient-Boosted Tree."
   ]
  },
  {
   "cell_type": "code",
   "execution_count": 29,
   "metadata": {},
   "outputs": [
    {
     "name": "stdout",
     "output_type": "stream",
     "text": [
      "Test Area Under ROC: 0.6332041395830809\n"
     ]
    }
   ],
   "source": [
    "dtEval = BinaryClassificationEvaluator()\n",
    "dtROC = dtEval.evaluate(dtPreds, {dtEval.metricName: \"areaUnderROC\"})\n",
    "print(\"Test Area Under ROC: \" + str(dtROC))"
   ]
  },
  {
   "cell_type": "code",
   "execution_count": 30,
   "metadata": {},
   "outputs": [
    {
     "name": "stdout",
     "output_type": "stream",
     "text": [
      "Accuracy of Decision Trees is = 0.651034\n"
     ]
    }
   ],
   "source": [
    "evaluator = MulticlassClassificationEvaluator(labelCol=\"label\", predictionCol=\"prediction\", metricName=\"accuracy\")\n",
    "dt_accuracy = evaluator.evaluate(dtPreds)\n",
    "print(\"Accuracy of Decision Trees is = %g\"% (dt_accuracy))"
   ]
  },
  {
   "cell_type": "markdown",
   "metadata": {},
   "source": [
    "### Make Predictions based on Decision Tree Model"
   ]
  },
  {
   "cell_type": "code",
   "execution_count": 31,
   "metadata": {},
   "outputs": [
    {
     "name": "stdout",
     "output_type": "stream",
     "text": [
      "+---+--------------------+--------------------+--------------------+--------------------+--------------------+---------------+--------------------+----------+\n",
      "| id|                text|            only_str|               words|            filtered|            features|  rawPrediction|         probability|prediction|\n",
      "+---+--------------------+--------------------+--------------------+--------------------+--------------------+---------------+--------------------+----------+\n",
      "|  0|Just happened a t...|Just happened a t...|[just, happened, ...|[happened, terrib...|(11358,[32,55,469...|[2582.0,1033.0]|[0.71424619640387...|       0.0|\n",
      "|  2|Heard about #eart...|Heard about #eart...|[heard, about, ea...|[heard, earthquak...|(11358,[181,196,4...|[2582.0,1033.0]|[0.71424619640387...|       0.0|\n",
      "|  3|there is a forest...|there is a forest...|[there, is, a, fo...|[forest, fire, sp...|(11358,[7,54,338,...|    [36.0,71.0]|[0.33644859813084...|       1.0|\n",
      "|  9|Apocalypse lighti...|Apocalypse lighti...|[apocalypse, ligh...|[apocalypse, ligh...|(11358,[179,1039,...|[2582.0,1033.0]|[0.71424619640387...|       0.0|\n",
      "| 11|Typhoon Soudelor ...|Typhoon Soudelor ...|[typhoon, soudelo...|[typhoon, soudelo...|(11358,[153,201,2...|[2582.0,1033.0]|[0.71424619640387...|       0.0|\n",
      "+---+--------------------+--------------------+--------------------+--------------------+--------------------+---------------+--------------------+----------+\n",
      "only showing top 5 rows\n",
      "\n"
     ]
    }
   ],
   "source": [
    "dt = DecisionTreeClassifier(featuresCol = 'features', labelCol = 'target', maxDepth = 3)\n",
    "dtModel = dt.fit(trainData)\n",
    "dtPreds = dtModel.transform(testData)\n",
    "dtPreds.show(5)"
   ]
  },
  {
   "cell_type": "code",
   "execution_count": 32,
   "metadata": {},
   "outputs": [],
   "source": [
    "dtPreds.select('id','prediction').withColumnRenamed('prediction','target').write.csv('dt_output.csv',header=True)"
   ]
  },
  {
   "cell_type": "markdown",
   "metadata": {},
   "source": [
    "## Random Forest Classifier"
   ]
  },
  {
   "cell_type": "code",
   "execution_count": 33,
   "metadata": {},
   "outputs": [
    {
     "name": "stdout",
     "output_type": "stream",
     "text": [
      "+-----+--------------------+----------+--------------------+\n",
      "|   id|       rawPrediction|prediction|         probability|\n",
      "+-----+--------------------+----------+--------------------+\n",
      "|10003|[11.5825087077925...|       0.0|[0.57912543538962...|\n",
      "|10013|[12.4697301315272...|       0.0|[0.62348650657636...|\n",
      "|10016|[11.5825087077925...|       0.0|[0.57912543538962...|\n",
      "|10018|[11.5825087077925...|       0.0|[0.57912543538962...|\n",
      "|10036|[11.5825087077925...|       0.0|[0.57912543538962...|\n",
      "|10047|[11.5825087077925...|       0.0|[0.57912543538962...|\n",
      "|10055|[11.5825087077925...|       0.0|[0.57912543538962...|\n",
      "|10070|[10.8178425579401...|       0.0|[0.54089212789700...|\n",
      "|10072|[10.4610883680546...|       0.0|[0.52305441840273...|\n",
      "|10083|[10.0223704636714...|       0.0|[0.50111852318357...|\n",
      "+-----+--------------------+----------+--------------------+\n",
      "only showing top 10 rows\n",
      "\n"
     ]
    }
   ],
   "source": [
    "from pyspark.ml.classification import RandomForestClassifier\n",
    "\n",
    "rf = RandomForestClassifier(featuresCol = 'features', labelCol = 'target')\n",
    "rfModel = rf.fit(train)\n",
    "rfPreds = rfModel.transform(validate)\n",
    "rfPreds.select('id', 'rawPrediction', 'prediction', 'probability').show(10)"
   ]
  },
  {
   "cell_type": "markdown",
   "metadata": {},
   "source": [
    "### Evaluate the Random Forest Classifier"
   ]
  },
  {
   "cell_type": "code",
   "execution_count": 34,
   "metadata": {},
   "outputs": [
    {
     "name": "stdout",
     "output_type": "stream",
     "text": [
      "Test Area Under ROC: 0.6957448731036682\n"
     ]
    }
   ],
   "source": [
    "rfEval = BinaryClassificationEvaluator()\n",
    "rfROC = rfEval.evaluate(rfPreds, {rfEval.metricName: \"areaUnderROC\"})\n",
    "print(\"Test Area Under ROC: \" + str(rfROC))"
   ]
  },
  {
   "cell_type": "code",
   "execution_count": 35,
   "metadata": {},
   "outputs": [
    {
     "name": "stdout",
     "output_type": "stream",
     "text": [
      "Accuracy of Random Forests is = 0.581379\n"
     ]
    }
   ],
   "source": [
    "evaluator = MulticlassClassificationEvaluator(labelCol=\"label\", predictionCol=\"prediction\", metricName=\"accuracy\")\n",
    "rf_accuracy = evaluator.evaluate(rfPreds)\n",
    "print(\"Accuracy of Random Forests is = %g\"% (rf_accuracy))"
   ]
  },
  {
   "cell_type": "markdown",
   "metadata": {},
   "source": [
    "### Make Predictions using the Model"
   ]
  },
  {
   "cell_type": "code",
   "execution_count": 36,
   "metadata": {},
   "outputs": [],
   "source": [
    "rf = RandomForestClassifier(featuresCol = 'features', labelCol = 'target')\n",
    "rfModel = rf.fit(trainData)\n",
    "rfPreds = rfModel.transform(testData)\n",
    "#rfPreds.select('id', 'rawPrediction', 'prediction', 'probability').show(10)"
   ]
  },
  {
   "cell_type": "code",
   "execution_count": 37,
   "metadata": {},
   "outputs": [],
   "source": [
    "#rfPreds.select('id','prediction').withColumnRenamed('prediction','target').write.csv('rf_output',header=True,mode='overwrite')"
   ]
  },
  {
   "cell_type": "markdown",
   "metadata": {},
   "source": [
    "## Gradient Boosting Classifier"
   ]
  },
  {
   "cell_type": "code",
   "execution_count": 38,
   "metadata": {},
   "outputs": [
    {
     "name": "stdout",
     "output_type": "stream",
     "text": [
      "+-----+--------------------+------+--------------------+--------------------+--------------------+--------------------+-----+--------------------+--------------------+----------+\n",
      "|   id|                text|target|            only_str|               words|            filtered|            features|label|       rawPrediction|         probability|prediction|\n",
      "+-----+--------------------+------+--------------------+--------------------+--------------------+--------------------+-----+--------------------+--------------------+----------+\n",
      "|10003|I want some tsuna...|     0|I want some tsuna...|[i, want, some, t...|[want, tsunami, t...|(19663,[80,91,468...|    0|[0.50310902378198...|[0.73227936310753...|       0.0|\n",
      "|10013|love 106.1 The Tw...|     0|love . The Twiste...|[love, the, twist...|[love, twister, t...|(19663,[52,296,54...|    0|[0.50310902378198...|[0.73227936310753...|       0.0|\n",
      "|10016|Crazy Mom Threw T...|     0|Crazy Mom Threw T...|[crazy, mom, thre...|[crazy, mom, thre...|(19663,[0,1,296,6...|    0|[-0.0455825494128...|[0.47722449718550...|       1.0|\n",
      "|10018|Twister was fun h...|     0|Twister was fun h...|[twister, was, fu...|[twister, fun, ht...|(19663,[0,2,296,5...|    0|[0.50310902378198...|[0.73227936310753...|       0.0|\n",
      "|10036|@carolinagutierr ...|     0|@carolinagutierr ...|[carolinagutierr,...|[carolinagutierr,...|(19663,[296,4153,...|    0|[0.50310902378198...|[0.73227936310753...|       0.0|\n",
      "+-----+--------------------+------+--------------------+--------------------+--------------------+--------------------+-----+--------------------+--------------------+----------+\n",
      "only showing top 5 rows\n",
      "\n"
     ]
    }
   ],
   "source": [
    "from pyspark.ml.classification import GBTClassifier\n",
    "\n",
    "gbt = GBTClassifier(maxIter=10)\n",
    "gbtModel = gbt.fit(train)\n",
    "gbtPreds = gbtModel.transform(validate)\n",
    "gbtPreds.show(5)"
   ]
  },
  {
   "cell_type": "markdown",
   "metadata": {},
   "source": [
    "### Evaluate the Gradient-Boosted Tree Classifier"
   ]
  },
  {
   "cell_type": "code",
   "execution_count": 39,
   "metadata": {},
   "outputs": [
    {
     "name": "stdout",
     "output_type": "stream",
     "text": [
      "Test Area Under ROC: 0.7420460291185792\n"
     ]
    }
   ],
   "source": [
    "gbtEval = BinaryClassificationEvaluator()\n",
    "gbtROC = gbtEval.evaluate(gbtPreds, {gbtEval.metricName: \"areaUnderROC\"})\n",
    "print(\"Test Area Under ROC: \" + str(gbtROC))"
   ]
  },
  {
   "cell_type": "code",
   "execution_count": 40,
   "metadata": {},
   "outputs": [
    {
     "name": "stdout",
     "output_type": "stream",
     "text": [
      "Accuracy of GBT is = 0.681379\n"
     ]
    }
   ],
   "source": [
    "evaluator = MulticlassClassificationEvaluator(labelCol=\"label\", predictionCol=\"prediction\", metricName=\"accuracy\")\n",
    "gb_accuracy = evaluator.evaluate(gbtPreds)\n",
    "print(\"Accuracy of GBT is = %g\"% (gb_accuracy))"
   ]
  },
  {
   "cell_type": "code",
   "execution_count": 41,
   "metadata": {},
   "outputs": [
    {
     "name": "stdout",
     "output_type": "stream",
     "text": [
      "+---+----------+\n",
      "| id|prediction|\n",
      "+---+----------+\n",
      "|  0|       0.0|\n",
      "|  2|       0.0|\n",
      "|  3|       1.0|\n",
      "|  9|       0.0|\n",
      "| 11|       0.0|\n",
      "+---+----------+\n",
      "only showing top 5 rows\n",
      "\n"
     ]
    }
   ],
   "source": [
    "gbt = GBTClassifier(maxIter=10)\n",
    "gbtModel = gbt.fit(trainData)\n",
    "gbtPreds = gbtModel.transform(testData)\n",
    "gbtPreds.select('id','prediction').show(5)"
   ]
  },
  {
   "cell_type": "code",
   "execution_count": 42,
   "metadata": {},
   "outputs": [],
   "source": [
    "#gbtPreds.select('id','prediction').withColumnRenamed('prediction','target').write.csv('gbt_output.csv',header=True,,mode='overwrite')"
   ]
  },
  {
   "cell_type": "code",
   "execution_count": null,
   "metadata": {},
   "outputs": [],
   "source": []
  }
 ],
 "metadata": {
  "kernelspec": {
   "display_name": "Python 3",
   "language": "python",
   "name": "python3"
  },
  "language_info": {
   "codemirror_mode": {
    "name": "ipython",
    "version": 3
   },
   "file_extension": ".py",
   "mimetype": "text/x-python",
   "name": "python",
   "nbconvert_exporter": "python",
   "pygments_lexer": "ipython3",
   "version": "3.6.6"
  }
 },
 "nbformat": 4,
 "nbformat_minor": 1
}
